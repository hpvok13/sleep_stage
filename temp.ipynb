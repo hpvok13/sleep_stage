{
 "cells": [
  {
   "cell_type": "code",
   "execution_count": 1,
   "metadata": {},
   "outputs": [],
   "source": [
    "import torch\n",
    "import pandas as pd\n",
    "from glob import glob\n",
    "import numpy as np\n",
    "from data import AccusleepDataset, MatiasDataset\n",
    "from yaml import safe_load\n",
    "from utils import AttrDict\n",
    "from torch.utils.data import DataLoader\n",
    "from pathlib import Path"
   ]
  },
  {
   "cell_type": "code",
   "execution_count": 3,
   "metadata": {},
   "outputs": [],
   "source": [
    "config = AttrDict(safe_load(open('config/config.yaml')))"
   ]
  },
  {
   "cell_type": "code",
   "execution_count": 4,
   "metadata": {},
   "outputs": [],
   "source": [
    "val_set = MatiasDataset(**config.data.matias, **config.data.conjunction)"
   ]
  },
  {
   "cell_type": "code",
   "execution_count": 5,
   "metadata": {},
   "outputs": [],
   "source": [
    "val_loader = DataLoader(\n",
    "    val_set,\n",
    "    batch_size=64,\n",
    "    shuffle=True,\n",
    "    num_workers=0\n",
    ")"
   ]
  },
  {
   "cell_type": "code",
   "execution_count": 6,
   "metadata": {},
   "outputs": [],
   "source": [
    "x, label = next(iter(val_loader))"
   ]
  },
  {
   "cell_type": "code",
   "execution_count": 7,
   "metadata": {},
   "outputs": [
    {
     "data": {
      "text/plain": [
       "(torch.Size([64, 2, 1000]), torch.Size([64]))"
      ]
     },
     "execution_count": 7,
     "metadata": {},
     "output_type": "execute_result"
    }
   ],
   "source": [
    "x.shape, label.shapes"
   ]
  },
  {
   "cell_type": "code",
   "execution_count": 9,
   "metadata": {},
   "outputs": [
    {
     "data": {
      "text/plain": [
       "tensor([0, 0, 0, 0, 1, 0, 0, 0, 1, 0, 0, 1, 0, 0, 0, 0, 0, 0, 0, 1, 0, 0, 1, 0,\n",
       "        0, 0, 0, 1, 0, 1, 0, 0, 0, 0, 0, 1, 0, 0, 1, 0, 0, 1, 1, 1, 0, 1, 1, 0,\n",
       "        2, 0, 1, 0, 1, 1, 1, 1, 0, 1, 0, 1, 0, 1, 0, 0])"
      ]
     },
     "execution_count": 9,
     "metadata": {},
     "output_type": "execute_result"
    }
   ],
   "source": [
    "label"
   ]
  },
  {
   "cell_type": "code",
   "execution_count": 4,
   "metadata": {},
   "outputs": [],
   "source": [
    "train_set = AccusleepDataset(\n",
    "    **config.data.accusleep, **config.data.conjunction\n",
    ")"
   ]
  },
  {
   "cell_type": "code",
   "execution_count": 5,
   "metadata": {},
   "outputs": [],
   "source": [
    "train_loader = DataLoader(\n",
    "    train_set,\n",
    "    batch_size=64,\n",
    "    shuffle=True,\n",
    "    num_workers=0\n",
    ")"
   ]
  },
  {
   "cell_type": "code",
   "execution_count": 6,
   "metadata": {},
   "outputs": [],
   "source": [
    "x, label = next(iter(train_loader))"
   ]
  },
  {
   "cell_type": "code",
   "execution_count": 7,
   "metadata": {},
   "outputs": [
    {
     "data": {
      "text/plain": [
       "torch.Size([64, 2, 1000])"
      ]
     },
     "execution_count": 7,
     "metadata": {},
     "output_type": "execute_result"
    }
   ],
   "source": [
    "x.shape"
   ]
  },
  {
   "cell_type": "code",
   "execution_count": 8,
   "metadata": {},
   "outputs": [
    {
     "data": {
      "text/plain": [
       "tensor([0, 1, 0, 2, 0, 0, 0, 0, 1, 1, 0, 0, 1, 1, 0, 1, 1, 0, 0, 0, 0, 0, 1, 0,\n",
       "        1, 1, 0, 0, 1, 0, 0, 0, 0, 1, 0, 1, 1, 0, 0, 0, 0, 1, 0, 2, 0, 1, 1, 0,\n",
       "        0, 0, 1, 1, 1, 0, 0, 1, 0, 1, 1, 0, 0, 0, 1, 0])"
      ]
     },
     "execution_count": 8,
     "metadata": {},
     "output_type": "execute_result"
    }
   ],
   "source": [
    "label"
   ]
  },
  {
   "cell_type": "code",
   "execution_count": 9,
   "metadata": {},
   "outputs": [
    {
     "data": {
      "text/plain": [
       "tensor([0.6464, 0.7943, 5.1537])"
      ]
     },
     "execution_count": 9,
     "metadata": {},
     "output_type": "execute_result"
    }
   ],
   "source": [
    "train_loader.dataset.weight"
   ]
  },
  {
   "cell_type": "code",
   "execution_count": 29,
   "metadata": {},
   "outputs": [
    {
     "data": {
      "text/plain": [
       "0.34246745678450446"
      ]
     },
     "execution_count": 29,
     "metadata": {},
     "output_type": "execute_result"
    }
   ],
   "source": [
    "from sklearn.metrics import accuracy_score\n",
    "\n",
    "predicted = torch.randint(0, 3, label.shape)\n",
    "accuracy_score(label, predicted, sample_weight=train_loader.dataset.weight[label])"
   ]
  },
  {
   "cell_type": "code",
   "execution_count": 31,
   "metadata": {},
   "outputs": [
    {
     "data": {
      "text/plain": [
       "0.3125"
      ]
     },
     "execution_count": 31,
     "metadata": {},
     "output_type": "execute_result"
    }
   ],
   "source": [
    "(label == predicted).sum().item() / label.shape[0]"
   ]
  },
  {
   "cell_type": "code",
   "execution_count": 33,
   "metadata": {},
   "outputs": [
    {
     "data": {
      "text/plain": [
       "tensor(0.3425)"
      ]
     },
     "execution_count": 33,
     "metadata": {},
     "output_type": "execute_result"
    }
   ],
   "source": [
    "(((label == predicted) * train_loader.dataset.weight[label]).sum() / train_loader.dataset.weight[label].sum())"
   ]
  },
  {
   "cell_type": "code",
   "execution_count": null,
   "metadata": {},
   "outputs": [],
   "source": []
  },
  {
   "cell_type": "code",
   "execution_count": 18,
   "metadata": {},
   "outputs": [
    {
     "data": {
      "text/plain": [
       "tensor([0.6464, 0.7943, 5.1537])"
      ]
     },
     "execution_count": 18,
     "metadata": {},
     "output_type": "execute_result"
    }
   ],
   "source": [
    "train_loader.dataset.weight"
   ]
  },
  {
   "cell_type": "code",
   "execution_count": 15,
   "metadata": {},
   "outputs": [],
   "source": [
    "df = pd.read_csv(\"data/matias/20240407/data.csv\")"
   ]
  },
  {
   "cell_type": "code",
   "execution_count": 15,
   "metadata": {},
   "outputs": [
    {
     "data": {
      "text/html": [
       "<div>\n",
       "<style scoped>\n",
       "    .dataframe tbody tr th:only-of-type {\n",
       "        vertical-align: middle;\n",
       "    }\n",
       "\n",
       "    .dataframe tbody tr th {\n",
       "        vertical-align: top;\n",
       "    }\n",
       "\n",
       "    .dataframe thead th {\n",
       "        text-align: right;\n",
       "    }\n",
       "</style>\n",
       "<table border=\"1\" class=\"dataframe\">\n",
       "  <thead>\n",
       "    <tr style=\"text-align: right;\">\n",
       "      <th></th>\n",
       "      <th>EEG1</th>\n",
       "      <th>EEG2</th>\n",
       "      <th>EEG3</th>\n",
       "      <th>EEG4</th>\n",
       "      <th>EEG5</th>\n",
       "      <th>EMG1</th>\n",
       "      <th>EEG6</th>\n",
       "      <th>EEG7</th>\n",
       "      <th>EEG8</th>\n",
       "      <th>EEG9</th>\n",
       "      <th>EMG2</th>\n",
       "    </tr>\n",
       "  </thead>\n",
       "  <tbody>\n",
       "    <tr>\n",
       "      <th>0</th>\n",
       "      <td>-7.133587</td>\n",
       "      <td>-7.277510</td>\n",
       "      <td>-6.287286</td>\n",
       "      <td>-14.053066</td>\n",
       "      <td>-9.693441</td>\n",
       "      <td>2.818389</td>\n",
       "      <td>8.399216</td>\n",
       "      <td>-15.839495</td>\n",
       "      <td>-14.614401</td>\n",
       "      <td>-7.799928</td>\n",
       "      <td>-1.084852</td>\n",
       "    </tr>\n",
       "    <tr>\n",
       "      <th>1</th>\n",
       "      <td>-65.990902</td>\n",
       "      <td>-71.173927</td>\n",
       "      <td>-61.571083</td>\n",
       "      <td>-104.464341</td>\n",
       "      <td>-94.103888</td>\n",
       "      <td>1.908430</td>\n",
       "      <td>8.845400</td>\n",
       "      <td>-98.069686</td>\n",
       "      <td>-91.531687</td>\n",
       "      <td>-62.845788</td>\n",
       "      <td>-10.868201</td>\n",
       "    </tr>\n",
       "    <tr>\n",
       "      <th>2</th>\n",
       "      <td>-41.690892</td>\n",
       "      <td>-56.898725</td>\n",
       "      <td>-55.974687</td>\n",
       "      <td>-103.493407</td>\n",
       "      <td>-112.395178</td>\n",
       "      <td>-1.402542</td>\n",
       "      <td>-4.406309</td>\n",
       "      <td>-108.526133</td>\n",
       "      <td>-114.613784</td>\n",
       "      <td>-77.153145</td>\n",
       "      <td>-0.915440</td>\n",
       "    </tr>\n",
       "    <tr>\n",
       "      <th>3</th>\n",
       "      <td>-9.776515</td>\n",
       "      <td>-35.681407</td>\n",
       "      <td>-45.624394</td>\n",
       "      <td>-123.439903</td>\n",
       "      <td>-127.730463</td>\n",
       "      <td>3.065535</td>\n",
       "      <td>-42.210908</td>\n",
       "      <td>-108.585485</td>\n",
       "      <td>-122.171490</td>\n",
       "      <td>-79.688085</td>\n",
       "      <td>6.175390</td>\n",
       "    </tr>\n",
       "    <tr>\n",
       "      <th>4</th>\n",
       "      <td>-0.771619</td>\n",
       "      <td>-9.889432</td>\n",
       "      <td>-10.183221</td>\n",
       "      <td>-107.183573</td>\n",
       "      <td>-124.387806</td>\n",
       "      <td>8.352127</td>\n",
       "      <td>-67.036424</td>\n",
       "      <td>-64.313452</td>\n",
       "      <td>-78.526509</td>\n",
       "      <td>-58.408978</td>\n",
       "      <td>7.832904</td>\n",
       "    </tr>\n",
       "  </tbody>\n",
       "</table>\n",
       "</div>"
      ],
      "text/plain": [
       "        EEG1       EEG2       EEG3        EEG4        EEG5      EMG1  \\\n",
       "0  -7.133587  -7.277510  -6.287286  -14.053066   -9.693441  2.818389   \n",
       "1 -65.990902 -71.173927 -61.571083 -104.464341  -94.103888  1.908430   \n",
       "2 -41.690892 -56.898725 -55.974687 -103.493407 -112.395178 -1.402542   \n",
       "3  -9.776515 -35.681407 -45.624394 -123.439903 -127.730463  3.065535   \n",
       "4  -0.771619  -9.889432 -10.183221 -107.183573 -124.387806  8.352127   \n",
       "\n",
       "        EEG6        EEG7        EEG8       EEG9       EMG2  \n",
       "0   8.399216  -15.839495  -14.614401  -7.799928  -1.084852  \n",
       "1   8.845400  -98.069686  -91.531687 -62.845788 -10.868201  \n",
       "2  -4.406309 -108.526133 -114.613784 -77.153145  -0.915440  \n",
       "3 -42.210908 -108.585485 -122.171490 -79.688085   6.175390  \n",
       "4 -67.036424  -64.313452  -78.526509 -58.408978   7.832904  "
      ]
     },
     "execution_count": 15,
     "metadata": {},
     "output_type": "execute_result"
    }
   ],
   "source": [
    "df.head()"
   ]
  },
  {
   "cell_type": "code",
   "execution_count": 16,
   "metadata": {},
   "outputs": [
    {
     "data": {
      "text/plain": [
       "Index(['EEG1', 'EEG2', 'EEG3', 'EEG4', 'EEG5', 'EMG1', 'EEG6', 'EEG7', 'EEG8',\n",
       "       'EEG9', 'EMG2'],\n",
       "      dtype='object')"
      ]
     },
     "execution_count": 16,
     "metadata": {},
     "output_type": "execute_result"
    }
   ],
   "source": [
    "df.columns"
   ]
  },
  {
   "cell_type": "code",
   "execution_count": null,
   "metadata": {},
   "outputs": [],
   "source": [
    "df_manual = pd.read_csv(\"data/matias/sub-MLA169_ses-20240407T003422_manual_predictions_eeg8.csv\")\n",
    "df_yasa = pd.read_csv(\"data/matias/sub-MLA169_ses-20240407T003422_manual_predictions_yasa_int_eeg8.csv\")"
   ]
  }
 ],
 "metadata": {
  "kernelspec": {
   "display_name": "pytorch",
   "language": "python",
   "name": "python3"
  },
  "language_info": {
   "codemirror_mode": {
    "name": "ipython",
    "version": 3
   },
   "file_extension": ".py",
   "mimetype": "text/x-python",
   "name": "python",
   "nbconvert_exporter": "python",
   "pygments_lexer": "ipython3",
   "version": "3.11.8"
  }
 },
 "nbformat": 4,
 "nbformat_minor": 2
}
